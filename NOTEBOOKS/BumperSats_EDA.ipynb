# Import libraries
import pandas as pd
import plotly.express as px
import numpy as np

# Download CSV from CelesTrak using SPECIAL
url = "https://celestrak.org/NORAD/elements/gp.php?SPECIAL=GPZ&FORMAT=CSV"
df = pd.read_csv(url)

# --- 1. Dataset Overview ---
print("Dataset columns:", df.columns)
print(df.head())

# --- 2. Orbital Altitude Estimation ---
# Using Mean Motion (rev/day) to estimate semi-major axis and altitude
# Kepler’s 3rd law: a = (mu/(2*pi*mean_motion))^(2/3), simplified for Earth
# Constants
mu = 398600.4418  # Earth’s gravitational parameter km^3/s^2
rev_per_day = df['MEAN_MOTION']
# Convert rev/day to mean motion in rad/s
mean_motion_rad_s = rev_per_day * 2 * np.pi / (24*3600)
# Semi-major axis (a) in km
a = (mu / (mean_motion_rad_s**2))**(1/3)
# Altitude = semi-major axis - Earth radius (6371 km)
altitude_km = a - 6371
df['ALTITUDE_KM'] = altitude_km

fig_alt = px.histogram(df, x='ALTITUDE_KM', nbins=50,
                       title='Estimated Orbital Altitude Distribution (km)')
fig_alt.show()

# --- 3. Inclination and Eccentricity Profiles ---
fig_inc_ecc = px.scatter(df, x='INCLINATION', y='ECCENTRICITY',
                         color='CLASSIFICATION_TYPE',
                         title='Inclination vs Eccentricity by Classification')
fig_inc_ecc.show()

# --- 4. BSTAR Analysis ---
fig_bstar = px.box(df, y='BSTAR', title='BSTAR Distribution (Atmospheric Drag Indicator)')
fig_bstar.show()

print(df['BSTAR'].describe())

# --- 5. Temporal Trends (Epoch) ---
fig_epoch = px.histogram(df, x='EPOCH', nbins=30,
                         title='Distribution of EPOCH Timestamps')
fig_epoch.show()
